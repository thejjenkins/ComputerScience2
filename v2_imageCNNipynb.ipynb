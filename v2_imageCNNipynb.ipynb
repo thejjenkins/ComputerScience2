{
  "nbformat": 4,
  "nbformat_minor": 0,
  "metadata": {
    "colab": {
      "provenance": [],
      "authorship_tag": "ABX9TyPungByKGMeCkbiK6R0lyWh",
      "include_colab_link": true
    },
    "kernelspec": {
      "name": "python3",
      "display_name": "Python 3"
    },
    "language_info": {
      "name": "python"
    },
    "accelerator": "GPU",
    "gpuClass": "standard"
  },
  "cells": [
    {
      "cell_type": "markdown",
      "metadata": {
        "id": "view-in-github",
        "colab_type": "text"
      },
      "source": [
        "<a href=\"https://colab.research.google.com/github/thejjenkins/ComputerScience2/blob/main/v2_imageCNNipynb.ipynb\" target=\"_parent\"><img src=\"https://colab.research.google.com/assets/colab-badge.svg\" alt=\"Open In Colab\"/></a>"
      ]
    },
    {
      "cell_type": "markdown",
      "source": [
        "### This is the skeleton of any neural network I want to build. \n",
        "\n",
        "It is a template. This is the template found at the website:\n",
        "* https://pytorch.org/tutorials/beginner/basics/buildmodel_tutorial.html\n",
        "\n",
        "Some additional websites I used:\n",
        "* https://pytorch.org/tutorials/beginner/nlp/pytorch_tutorial.html\n",
        "* https://pytorch.org/docs/stable/generated/torch.argmax.html\n",
        "\n",
        "The linear functions will be changed out for conv2D (maybe conv3D) functions."
      ],
      "metadata": {
        "id": "oIfnSmsc5dS8"
      }
    },
    {
      "cell_type": "code",
      "source": [
        "import os\n",
        "import torch\n",
        "from torch import nn\n",
        "from torch.utils.data import DataLoader\n",
        "from torchvision import datasets, transforms\n",
        "\n",
        "# Agnostic code\n",
        "device = \"cuda\" if torch.cuda.is_available() else \"cpu\"\n",
        "print(f\"Using {device} device\")\n",
        "\n",
        "# Define the class\n",
        "class NeuralNetwork(nn.Module):\n",
        "    # init is the definition while forward initiates movement through the defined layers\n",
        "    def __init__(self):\n",
        "        super(NeuralNetwork, self).__init__()\n",
        "        self.flatten = nn.Flatten()\n",
        "        self.linear_relu_stack = nn.Sequential(\n",
        "            nn.Linear(28*28, 512), # layer 1\n",
        "            nn.ReLU(),\n",
        "            nn.Linear(512, 512), # layer 2\n",
        "            nn.ReLU(),\n",
        "            nn.Linear(512, 10), # layer 3\n",
        "        )\n",
        "\n",
        "    # forward is the movement through the network\n",
        "    def forward(self, x):\n",
        "        x = self.flatten(x)\n",
        "        logits = self.linear_relu_stack(x)\n",
        "        return logits # returns a bracket containing a bracket with 10 individual float numbers ([0, 1, 10])\n",
        "\n",
        "model = NeuralNetwork().to(device) # instantiate network\n",
        "print(model) # prints an outline of the model\n",
        "\n",
        "X = torch.rand(1, 28, 28, device=device) # mnist photo of Xshape = print(X.shape) = torch.Size([0, 1, 28, 28])\n",
        "logits = model(X) # ([0, 1, 10])\n",
        "print(logits) \n",
        "print(f\"First dimension of logits: {logits[0][:]}\")\n",
        "pred_probab = nn.Softmax(dim=1)(logits) # softmax = Sigmoid( on logits[0][:] ))\n",
        "print(f\"logits after sigmoid: {pred_probab[0][:]}\")\n",
        "y_pred = pred_probab.argmax(1) # returns the index of the largest number (highest probability) after sigmoid operation\n",
        "print(f\"Predicted class: {y_pred}\") # y_pred = index of highest probability. Therefore, the predicted label. \n",
        "\n",
        "input_image = torch.rand(3,28,28) # 3 color channel 28x28 pixel image ([0, 3, 28, 28])\n",
        "print(input_image.size()) # torch.Size([3, 28, 28]) # the zeroth dimension is hidden so its actually ([0, 3, 28, 28])\n",
        "\n",
        "flatten = nn.Flatten() # instantiates Flatten subclass of nn without calling model(X) as in line 39\n",
        "flat_image = flatten(input_image) # reduces input_image to a bracket containing a bracket of 784 individual float numbers ([0, 1, 784]) instead of a bracket containing 28 individual brackets each containing 28 individual float numbers ([0, 1, 28, 28])\n",
        "print(flat_image.size()) # torch.Size([3, 784]) # the zeroth dimension is hidden so its actually ([0, 3, 784])\n",
        "\n",
        "layer1 = nn.Linear(in_features=28*28, out_features=20) # instantiates layer 1 without calling model(X) as in line 39\n",
        "hidden1 = layer1(flat_image) # this is the input layer. returns a bracket containing 3 individual brackets each containing 20 individual float numbers ([0, 3, 20])\n",
        "print(hidden1.size()) # torch.Size([3, 20]) # the zeroth dimension is hidden so its actually ([0, 3, 784])\n",
        "\n",
        "# Non-linear activations are what create the complex mappings between the model’s inputs and outputs. They are applied after linear transformations to introduce nonlinearity, helping neural networks learn a wide variety of phenomena.\n",
        "# In this model, we use nn.ReLU between our linear layers, but there’s other activations to introduce non-linearity in your model.\n",
        "# James: The non-linear activation might produce a heat-map\n",
        "print(f\"Before ReLU: {hidden1}\\n\\n\") # prints the torch.Size([0, 3, 20])\n",
        "hidden1 = nn.ReLU()(hidden1) # every negative float is set to 0 and every positive float is untouched\n",
        "print(f\"After ReLU: {hidden1}\") # prints the ([0, 3, 20]) tensor\n",
        "\n",
        "# nn.Sequential is an ordered container of modules. The data is passed through all the modules in the same order as defined. You can use sequential containers to put together a quick network like seq_modules.\n",
        "seq_modules = nn.Sequential( # This seq_model is essentially the ``forward`` function of a class\n",
        "    flatten,   # These have already been defined.\n",
        "    layer1,    # This order can be used as a template. \n",
        "    nn.ReLU(), \n",
        "    nn.Linear(20, 10)\n",
        ")\n",
        "input_image = torch.rand(3,28,28) # input_image.shape == ([0, 3, 28, 28])\n",
        "logits = seq_modules(input_image) # logits = ([0, 3, 10])\n",
        "print(f\"Logits: {logits}\")\n",
        "\n",
        "softmax = nn.Softmax(dim=1) # sigmoid\n",
        "pred_probab = softmax(logits) # sigmoid on the ([0, 3, 10])\n",
        "print(f\"Pred_probab = {pred_probab}\")\n",
        "\n",
        "print(f\"Model structure: {model}\\n\\n\") # Prints an outline of the model\n",
        "for name, param in model.named_parameters(): # prints the weights tensor and bias tensor for each layer in the model\n",
        "  print(f\"Layer: {name} | Size: {param.size()} | Values : {param[:2]} \\n\")"
      ],
      "metadata": {
        "colab": {
          "base_uri": "https://localhost:8080/"
        },
        "id": "xrOTXJvabezp",
        "outputId": "30c26283-06b3-4850-ee7f-c06e36488332"
      },
      "execution_count": null,
      "outputs": [
        {
          "output_type": "stream",
          "name": "stdout",
          "text": [
            "Using cuda device\n",
            "NeuralNetwork(\n",
            "  (flatten): Flatten(start_dim=1, end_dim=-1)\n",
            "  (linear_relu_stack): Sequential(\n",
            "    (0): Linear(in_features=784, out_features=512, bias=True)\n",
            "    (1): ReLU()\n",
            "    (2): Linear(in_features=512, out_features=512, bias=True)\n",
            "    (3): ReLU()\n",
            "    (4): Linear(in_features=512, out_features=10, bias=True)\n",
            "  )\n",
            ")\n",
            "tensor([[-0.1156, -0.0701,  0.0552, -0.0184, -0.1279,  0.0042,  0.0519,  0.0109,\n",
            "          0.0482,  0.0641]], device='cuda:0', grad_fn=<AddmmBackward0>)\n",
            "First dimension of logits: tensor([-0.1156, -0.0701,  0.0552, -0.0184, -0.1279,  0.0042,  0.0519,  0.0109,\n",
            "         0.0482,  0.0641], device='cuda:0', grad_fn=<SliceBackward0>)\n",
            "logits after sigmoid: tensor([0.0898, 0.0939, 0.1065, 0.0989, 0.0887, 0.1012, 0.1061, 0.1019, 0.1057,\n",
            "        0.1074], device='cuda:0', grad_fn=<SliceBackward0>)\n",
            "Predicted class: tensor([9], device='cuda:0')\n",
            "torch.Size([3, 28, 28])\n",
            "torch.Size([3, 784])\n",
            "torch.Size([3, 20])\n",
            "Before ReLU: tensor([[-0.6966, -0.2612,  0.0740,  0.0561,  0.0765, -0.8298, -0.0761, -0.2147,\n",
            "          0.4669, -0.0946,  0.3454, -0.1819, -0.5152,  0.8548, -0.2990,  0.3015,\n",
            "          0.2459,  0.1216, -0.1103,  0.0287],\n",
            "        [-0.4898, -0.3191,  0.3687,  0.2826,  0.2857, -0.5769, -0.4268, -0.1498,\n",
            "          1.1461, -0.1949,  0.2937,  0.0465, -0.1945,  0.8894, -0.0151,  0.4408,\n",
            "          0.2971,  0.0194, -0.2199, -0.3026],\n",
            "        [-0.3932, -0.2667,  0.0972,  0.3472, -0.1011, -0.7418, -0.2626, -0.2865,\n",
            "          0.7994, -0.2400,  0.4066, -0.0281,  0.0167,  0.6792, -0.0980,  0.2224,\n",
            "          0.2253, -0.1887, -0.3133,  0.0567]], grad_fn=<AddmmBackward0>)\n",
            "\n",
            "\n",
            "After ReLU: tensor([[0.0000, 0.0000, 0.0740, 0.0561, 0.0765, 0.0000, 0.0000, 0.0000, 0.4669,\n",
            "         0.0000, 0.3454, 0.0000, 0.0000, 0.8548, 0.0000, 0.3015, 0.2459, 0.1216,\n",
            "         0.0000, 0.0287],\n",
            "        [0.0000, 0.0000, 0.3687, 0.2826, 0.2857, 0.0000, 0.0000, 0.0000, 1.1461,\n",
            "         0.0000, 0.2937, 0.0465, 0.0000, 0.8894, 0.0000, 0.4408, 0.2971, 0.0194,\n",
            "         0.0000, 0.0000],\n",
            "        [0.0000, 0.0000, 0.0972, 0.3472, 0.0000, 0.0000, 0.0000, 0.0000, 0.7994,\n",
            "         0.0000, 0.4066, 0.0000, 0.0167, 0.6792, 0.0000, 0.2224, 0.2253, 0.0000,\n",
            "         0.0000, 0.0567]], grad_fn=<ReluBackward0>)\n",
            "Logits: tensor([[-0.0134,  0.1134,  0.0258, -0.4732, -0.4425, -0.3305,  0.3976, -0.1344,\n",
            "         -0.0672,  0.0617],\n",
            "        [-0.1224,  0.2172, -0.0431, -0.4628, -0.4672, -0.4574,  0.4351, -0.3142,\n",
            "         -0.0834,  0.0837],\n",
            "        [ 0.0280,  0.1062,  0.0532, -0.6029, -0.5441, -0.4876,  0.3669, -0.0013,\n",
            "         -0.1984,  0.0618]], grad_fn=<AddmmBackward0>)\n",
            "Pred_probab = tensor([[0.1041, 0.1182, 0.1083, 0.0657, 0.0678, 0.0758, 0.1570, 0.0922, 0.0986,\n",
            "         0.1122],\n",
            "        [0.0956, 0.1342, 0.1035, 0.0680, 0.0677, 0.0684, 0.1669, 0.0789, 0.0994,\n",
            "         0.1175],\n",
            "        [0.1110, 0.1201, 0.1139, 0.0591, 0.0627, 0.0663, 0.1558, 0.1078, 0.0885,\n",
            "         0.1148]], grad_fn=<SoftmaxBackward0>)\n",
            "Model structure: NeuralNetwork(\n",
            "  (flatten): Flatten(start_dim=1, end_dim=-1)\n",
            "  (linear_relu_stack): Sequential(\n",
            "    (0): Linear(in_features=784, out_features=512, bias=True)\n",
            "    (1): ReLU()\n",
            "    (2): Linear(in_features=512, out_features=512, bias=True)\n",
            "    (3): ReLU()\n",
            "    (4): Linear(in_features=512, out_features=10, bias=True)\n",
            "  )\n",
            ")\n",
            "\n",
            "\n",
            "Layer: linear_relu_stack.0.weight | Size: torch.Size([512, 784]) | Values : tensor([[ 0.0322,  0.0051, -0.0235,  ...,  0.0147,  0.0249, -0.0168],\n",
            "        [ 0.0047, -0.0328,  0.0054,  ..., -0.0092, -0.0150,  0.0090]],\n",
            "       device='cuda:0', grad_fn=<SliceBackward0>) \n",
            "\n",
            "Layer: linear_relu_stack.0.bias | Size: torch.Size([512]) | Values : tensor([-0.0260, -0.0179], device='cuda:0', grad_fn=<SliceBackward0>) \n",
            "\n",
            "Layer: linear_relu_stack.2.weight | Size: torch.Size([512, 512]) | Values : tensor([[-0.0083,  0.0182, -0.0026,  ...,  0.0420,  0.0286,  0.0425],\n",
            "        [-0.0247, -0.0304,  0.0421,  ..., -0.0413, -0.0139,  0.0113]],\n",
            "       device='cuda:0', grad_fn=<SliceBackward0>) \n",
            "\n",
            "Layer: linear_relu_stack.2.bias | Size: torch.Size([512]) | Values : tensor([ 0.0418, -0.0014], device='cuda:0', grad_fn=<SliceBackward0>) \n",
            "\n",
            "Layer: linear_relu_stack.4.weight | Size: torch.Size([10, 512]) | Values : tensor([[ 0.0161,  0.0101,  0.0335,  ..., -0.0224,  0.0013, -0.0293],\n",
            "        [ 0.0023,  0.0401,  0.0083,  ...,  0.0065,  0.0435,  0.0383]],\n",
            "       device='cuda:0', grad_fn=<SliceBackward0>) \n",
            "\n",
            "Layer: linear_relu_stack.4.bias | Size: torch.Size([10]) | Values : tensor([-0.0317, -0.0430], device='cuda:0', grad_fn=<SliceBackward0>) \n",
            "\n"
          ]
        }
      ]
    },
    {
      "cell_type": "code",
      "source": [
        "img = torchvision.io.read_image(\"/content/b1resized.png\")\n",
        "img=img.unsqueeze(dim=1)\n",
        "_,channel,width,height=img.shape\n",
        "img.shape\n",
        "flatten_img = nn.Flatten()\n",
        "flatten_img = flatten_img(img)\n",
        "flatten_img.shape"
      ],
      "metadata": {
        "colab": {
          "base_uri": "https://localhost:8080/"
        },
        "id": "cCD0FHTOUOBk",
        "outputId": "4cf475ed-bd95-4d21-9529-73ac8c44350c"
      },
      "execution_count": null,
      "outputs": [
        {
          "output_type": "execute_result",
          "data": {
            "text/plain": [
              "torch.Size([1, 307200])"
            ]
          },
          "metadata": {},
          "execution_count": 78
        }
      ]
    },
    {
      "cell_type": "code",
      "source": [
        "Model = model()\n",
        "Model.parameters()"
      ],
      "metadata": {
        "colab": {
          "base_uri": "https://localhost:8080/"
        },
        "id": "rMjt0V1dUvf0",
        "outputId": "b28e121f-18d0-4157-db32-0d45c1010bea"
      },
      "execution_count": null,
      "outputs": [
        {
          "output_type": "execute_result",
          "data": {
            "text/plain": [
              "<generator object Module.parameters at 0x7feed3141c80>"
            ]
          },
          "metadata": {},
          "execution_count": 77
        }
      ]
    },
    {
      "cell_type": "code",
      "source": [],
      "metadata": {
        "id": "_c65_P4Ie_Pf"
      },
      "execution_count": null,
      "outputs": []
    }
  ]
}